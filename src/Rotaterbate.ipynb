{
 "cells": [
  {
   "cell_type": "code",
   "execution_count": 149,
   "metadata": {
    "collapsed": true
   },
   "outputs": [],
   "source": [
    "import numpy as np\n",
    "import math\n",
    "from matplotlib import pylab as plt\n",
    "%matplotlib inline"
   ]
  },
  {
   "cell_type": "code",
   "execution_count": 181,
   "metadata": {},
   "outputs": [],
   "source": [
    "from svgpathtools import svg2paths\n",
    "#paths, attributes = svg2paths('/Users/michaelkapuscik/git/toolcat/out/svg/0-test.svg')\n",
    "paths, attributes = svg2paths('/Users/michaelkapuscik/git/toolcat/out/svg/123-3\\8-in-box-wrench.svg')"
   ]
  },
  {
   "cell_type": "code",
   "execution_count": 182,
   "metadata": {},
   "outputs": [],
   "source": [
    "#paths"
   ]
  },
  {
   "cell_type": "code",
   "execution_count": 183,
   "metadata": {},
   "outputs": [],
   "source": [
    "#dir(paths[0])"
   ]
  },
  {
   "cell_type": "code",
   "execution_count": 184,
   "metadata": {},
   "outputs": [],
   "source": [
    "points = [(controlpoint.start.real, controlpoint.start.imag) for controlpoint in paths[0]]"
   ]
  },
  {
   "cell_type": "code",
   "execution_count": 185,
   "metadata": {},
   "outputs": [],
   "source": [
    "points = np.array(points)"
   ]
  },
  {
   "cell_type": "code",
   "execution_count": 186,
   "metadata": {},
   "outputs": [],
   "source": [
    "normalization_offset = (np.average(points[:,0]), np.average(points[:,1]))"
   ]
  },
  {
   "cell_type": "code",
   "execution_count": 187,
   "metadata": {},
   "outputs": [],
   "source": [
    "normalized_points = np.array([points[:,0] - normalization_offset[0], points[:,1] - normalization_offset[1]]).transpose()"
   ]
  },
  {
   "cell_type": "code",
   "execution_count": 188,
   "metadata": {},
   "outputs": [
    {
     "data": {
      "text/plain": [
       "array([[-1619.71428571,   947.19047619],\n",
       "       [-1704.71428571,   689.19047619],\n",
       "       [-1505.71428571,   567.19047619],\n",
       "       [ -508.71428571,    92.19047619],\n",
       "       [  561.28571429,  -602.80952381],\n",
       "       [  681.28571429,  -718.80952381],\n",
       "       [ 1005.28571429,  -688.80952381],\n",
       "       [  921.28571429,  -642.80952381],\n",
       "       [  778.28571429,  -567.80952381],\n",
       "       [  839.28571429,  -368.80952381],\n",
       "       [  867.28571429,  -347.80952381],\n",
       "       [  949.28571429,  -369.80952381],\n",
       "       [ 1054.28571429,  -398.80952381],\n",
       "       [  910.28571429,  -236.80952381],\n",
       "       [  695.28571429,  -202.80952381],\n",
       "       [  538.28571429,  -197.80952381],\n",
       "       [  355.28571429,  -105.80952381],\n",
       "       [ -483.71428571,   339.19047619],\n",
       "       [-1365.71428571,   880.19047619],\n",
       "       [-1452.71428571,   967.19047619],\n",
       "       [-1515.71428571,   967.19047619]])"
      ]
     },
     "execution_count": 188,
     "metadata": {},
     "output_type": "execute_result"
    }
   ],
   "source": [
    "normalized_points"
   ]
  },
  {
   "cell_type": "code",
   "execution_count": 189,
   "metadata": {
    "collapsed": true
   },
   "outputs": [],
   "source": [
    "x = normalized_points[:,0]\n",
    "y = normalized_points[:,1]"
   ]
  },
  {
   "cell_type": "code",
   "execution_count": 190,
   "metadata": {},
   "outputs": [
    {
     "data": {
      "text/plain": [
       "array([[ 1150198.51428571,  -614258.05714286],\n",
       "       [ -614258.05714286,   362676.46190476]])"
      ]
     },
     "execution_count": 190,
     "metadata": {},
     "output_type": "execute_result"
    }
   ],
   "source": [
    "#compute covarience for normalizaed points\n",
    "#why does the covariance matrix yield a 2x2?\n",
    "np.cov([x,y])"
   ]
  },
  {
   "cell_type": "code",
   "execution_count": 191,
   "metadata": {},
   "outputs": [
    {
     "name": "stdout",
     "output_type": "stream",
     "text": [
      "[   26806.96069696  1486068.01549352] [[-0.4797542  -0.87740293]\n",
      " [-0.87740293  0.4797542 ]]\n"
     ]
    }
   ],
   "source": [
    "#get eigenvectors to represent major and minor axes of tool\n",
    "(eigenvalues, eigenvectors) = np.linalg.eigh(np.cov([x,y]))\n",
    "print(eigenvalues,eigenvectors)"
   ]
  },
  {
   "cell_type": "code",
   "execution_count": 192,
   "metadata": {},
   "outputs": [
    {
     "name": "stdout",
     "output_type": "stream",
     "text": [
      "[-126.44950079 -231.25834409] [-231.25834409  126.44950079]\n"
     ]
    }
   ],
   "source": [
    "#scale the vectors to make them plotable\n",
    "eigen1 = eigenvectors[0] * np.max(x)/4\n",
    "eigen2 = eigenvectors[1] * np.max(x)/4\n",
    "\n",
    "print(eigen1,eigen2)"
   ]
  },
  {
   "cell_type": "code",
   "execution_count": 193,
   "metadata": {},
   "outputs": [
    {
     "data": {
      "text/plain": [
       "((0.67905260931096922, 1), (-1.4726399490824345, 1))"
      ]
     },
     "execution_count": 193,
     "metadata": {},
     "output_type": "execute_result"
    }
   ],
   "source": [
    "(evec1_x, evec1_y), (evec2_x, evec2_y)"
   ]
  },
  {
   "cell_type": "code",
   "execution_count": 194,
   "metadata": {},
   "outputs": [
    {
     "data": {
      "text/plain": [
       "[<matplotlib.lines.Line2D at 0x1519f75fd0>]"
      ]
     },
     "execution_count": 194,
     "metadata": {},
     "output_type": "execute_result"
    },
    {
     "data": {
      "image/png": "[encoded data removed]",
      "text/plain": [
       "<matplotlib.figure.Figure at 0x1519e0a4e0>"
      ]
     },
     "metadata": {},
     "output_type": "display_data"
    }
   ],
   "source": [
    "plt.plot(x,y)\n",
    "plt.plot([0,eigen1[0]], [0, eigen1[1]], 'b') \n",
    "plt.plot([0,eigen2[0]], [0, eigen2[1]], 'r') "
   ]
  },
  {
   "cell_type": "code",
   "execution_count": 195,
   "metadata": {},
   "outputs": [],
   "source": [
    "#find major axis of part\n",
    "major_eigenvector = eigenvectors[0]\n",
    "if eigenvalues[0] < eigenvalues[1]:\n",
    "    major_eigenvector = eigenvectors[1]\n"
   ]
  },
  {
   "cell_type": "code",
   "execution_count": 196,
   "metadata": {},
   "outputs": [
    {
     "data": {
      "text/plain": [
       "151.33065010893029"
      ]
     },
     "execution_count": 196,
     "metadata": {},
     "output_type": "execute_result"
    }
   ],
   "source": [
    "# todo: try rotating around center by the sine,cosine in major_eigenvector\n",
    "rot_radians = math.atan2(major_eigenvector[1],major_eigenvector[0])\n",
    "rot_radians * 180 / math.pi"
   ]
  },
  {
   "cell_type": "code",
   "execution_count": 197,
   "metadata": {},
   "outputs": [
    {
     "data": {
      "text/plain": [
       "(-5000, 5000)"
      ]
     },
     "execution_count": 197,
     "metadata": {},
     "output_type": "execute_result"
    },
    {
     "data": {
      "image/png": "[encoded data removed]",
      "text/plain": [
       "<matplotlib.figure.Figure at 0x1519f526a0>"
      ]
     },
     "metadata": {},
     "output_type": "display_data"
    }
   ],
   "source": [
    "s = math.sin(rot_radians)\n",
    "c = math.cos(rot_radians)\n",
    "xp = x * c + y * s\n",
    "yp = -x * s + y * c\n",
    "plt.plot(xp, yp)\n",
    "plt.xlim(-5000,5000)\n",
    "plt.ylim(-5000,5000)"
   ]
  },
  {
   "cell_type": "code",
   "execution_count": null,
   "metadata": {
    "collapsed": true
   },
   "outputs": [],
   "source": []
  }
 ],
 "metadata": {
  "kernelspec": {
   "display_name": "Python 3",
   "language": "python",
   "name": "python3"
  }
 },
 "nbformat": 4,
 "nbformat_minor": 2
}
